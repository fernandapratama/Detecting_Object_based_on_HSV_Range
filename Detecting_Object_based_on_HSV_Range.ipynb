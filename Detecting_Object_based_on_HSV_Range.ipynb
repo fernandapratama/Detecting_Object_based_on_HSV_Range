{
 "cells": [
  {
   "cell_type": "code",
   "execution_count": 1,
   "metadata": {
    "id": "rm2BGzzDvzfk"
   },
   "outputs": [],
   "source": [
    "import cv2 as cv\n",
    "#import common\n",
    "import numpy as np\n",
    "\n",
    "                                                #the following are to do with this interactive notebook code\n",
    "%matplotlib inline \n",
    "from matplotlib import pyplot as plt\n",
    "import pylab\n",
    "pylab.rcParams['figure.figsize'] = (10.0, 8.0) # this controls figure size in the notebook"
   ]
  },
  {
   "cell_type": "code",
   "execution_count": 2,
   "metadata": {},
   "outputs": [],
   "source": [
    "def do_nothing(x):\n",
    "    pass\n",
    "\n",
    "# Fungsi trackbar untk proses masking\n",
    "def masking(image):\n",
    "    hsv = cv.cvtColor(image, cv.COLOR_BGR2HSV)\n",
    "    \n",
    "    min_r = cv.getTrackbarPos(\"min_red\", \"TrackBars\")\n",
    "    min_g = cv.getTrackbarPos(\"min_green\", \"TrackBars\")\n",
    "    min_b = cv.getTrackbarPos(\"min_blue\", \"TrackBars\")\n",
    "    \n",
    "    lower = np.array([min_r, min_g, min_b])\n",
    "    upper = np.array([255,255,255])\n",
    "    mask = cv.inRange(hsv, lower, upper)\n",
    "    \n",
    "    return mask, min_r, min_g, min_b"
   ]
  },
  {
   "cell_type": "code",
   "execution_count": null,
   "metadata": {},
   "outputs": [],
   "source": [
    "# real time VideoCapture using opencv\n",
    "cap = cv.VideoCapture(0)\n",
    "cv.namedWindow(\"TrackBars\")\n",
    "\n",
    "# Create TrackBar\n",
    "## Minimum range\n",
    "cv.createTrackbar(\"min_red\", \"TrackBars\", 0, 255, nothing)\n",
    "cv.createTrackbar(\"min_green\", \"TrackBars\", 0, 255, nothing)\n",
    "cv.createTrackbar(\"min_blue\", \"TrackBars\", 0, 255, nothing)\n",
    "\n",
    "## Maximum range\n",
    "\n",
    "while True:\n",
    "    _, frame = cap.read()\n",
    "    mask, min_r, min_g, min_b = masking(frame)\n",
    "    \n",
    "    #cv.imshow(\"Sample\", frame)\n",
    "    cv.imshow(\"Sample\", mask)\n",
    "    if cv.waitKey(1) & 0xFF==ord(\"q\"):\n",
    "        break\n",
    "        \n",
    "cap.release()\n",
    "cv.destroyAllWindows()\n",
    "\n",
    "print(\"min red, min green, min blue: {0}, {1}, {2}\".format(min_r, min_g, min_b))"
   ]
  },
  {
   "cell_type": "code",
   "execution_count": 43,
   "metadata": {},
   "outputs": [],
   "source": [
    "# Algorithm:\n",
    "# Reading RGB image --> Converting to HSV --> Implementing Mask -->\n",
    "# Finding Contour Points --> Extracting Rectangle Coordinates -->\n",
    "# Drawing Bounding Box --> Putting Label\n",
    "\n",
    "\n",
    "# Defining lower bounds and upper bounds of founded Mask\n",
    "min_blue, min_green, min_red = 10, 141, 114  # Dapat dari cell atas!!\n",
    "\n",
    "cap = cv.VideoCapture(0)\n",
    "#cv.namedWindow(\"Binary frame with Mask\")\n",
    "while True:\n",
    "    _, frame = cap.read()\n",
    "    frame_hsv = cv.cvtColor(frame, cv.COLOR_BGR2HSV)    #(480, 640, 3) Convert to HSV\n",
    "    mask = cv.inRange(frame_hsv, (min_blue, min_green, min_red), (255,255,255))    #(480, 640) Implementing MASK\n",
    "    \n",
    "    #Finding Countors\n",
    "    contours, hierarchy = cv.findContours(mask, cv.RETR_TREE, cv.CHAIN_APPROX_SIMPLE)\n",
    "    contours = sorted(contours, key=cv.contourArea, reverse=True)\n",
    "    \n",
    "    #draw contours\n",
    "    #drawing = np.zeros((np.array(mask).shape[0], np.array(mask).shape[1], 3), dtype=np.uint8)\n",
    "    #for i in range(len(contours)):\n",
    "        #colors = (np.random.randint(0,256), np.random.randint(0,256), np.random.randint(0,256))\n",
    "        #cv.drawContours(drawing, contours, i, colors, 1, cv.LINE_8, hierarchy, 0)\n",
    "    \n",
    "    #Extracting rectangle coordinates\n",
    "    if contours:\n",
    "        #Rectangle\n",
    "        x, y, w, h = cv.boundingRect(contours[0])\n",
    "        cv.rectangle(frame, (x, y), (x+w, y+h), (0,255,0), 2)\n",
    "        \n",
    "        #Putting Label\n",
    "        label = \"Detected Object!!\"\n",
    "        cv.putText(frame, label, (x-5, y-5), cv.FONT_HERSHEY_SIMPLEX, 1.0, (0,0,255), 2)        \n",
    "    \n",
    "    #cv.imshow('Contours', drawing)\n",
    "    cv.imshow(\"Binary frame\", frame)\n",
    "    if cv.waitKey(1) & 0xFF==ord(\"q\"):\n",
    "        break\n",
    "\n",
    "cap.release()\n",
    "cv.destroyAllWindows()"
   ]
  },
  {
   "cell_type": "code",
   "execution_count": null,
   "metadata": {},
   "outputs": [],
   "source": []
  }
 ],
 "metadata": {
  "colab": {
   "provenance": []
  },
  "kernelspec": {
   "display_name": "Python 3 (ipykernel)",
   "language": "python",
   "name": "python3"
  },
  "language_info": {
   "codemirror_mode": {
    "name": "ipython",
    "version": 3
   },
   "file_extension": ".py",
   "mimetype": "text/x-python",
   "name": "python",
   "nbconvert_exporter": "python",
   "pygments_lexer": "ipython3",
   "version": "3.7.11"
  }
 },
 "nbformat": 4,
 "nbformat_minor": 1
}
